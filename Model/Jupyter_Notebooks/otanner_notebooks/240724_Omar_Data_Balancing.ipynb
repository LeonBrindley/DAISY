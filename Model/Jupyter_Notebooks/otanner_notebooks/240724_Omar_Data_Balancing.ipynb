{
  "cells": [
    {
      "cell_type": "code",
      "execution_count": null,
      "metadata": {
        "id": "B_OeOJLclVBV"
      },
      "outputs": [],
      "source": [
        "all_classes = [\"Clover\", \"Grass\", \"Dung\", \"Sheep Dung\", \"Soil\", \"Artifact\"]"
      ]
    },
    {
      "cell_type": "code",
      "execution_count": null,
      "metadata": {
        "id": "3ZpmTH3Fp6Tr",
        "colab": {
          "base_uri": "https://localhost:8080/"
        },
        "outputId": "e2b19224-b65b-47ea-e35a-17df2824e6bd"
      },
      "outputs": [
        {
          "output_type": "stream",
          "name": "stdout",
          "text": [
            "(18560, 8)\n",
            "(18560, 9)\n",
            "(18491, 9)\n"
          ]
        },
        {
          "output_type": "stream",
          "name": "stderr",
          "text": [
            "<ipython-input-46-5de99155a78d>:47: SettingWithCopyWarning: \n",
            "A value is trying to be set on a copy of a slice from a DataFrame.\n",
            "Try using .loc[row_indexer,col_indexer] = value instead\n",
            "\n",
            "See the caveats in the documentation: https://pandas.pydata.org/pandas-docs/stable/user_guide/indexing.html#returning-a-view-versus-a-copy\n",
            "  df['image'] = df['image'].apply(get_full_path)\n"
          ]
        }
      ],
      "source": [
        "import pandas as pd\n",
        "import numpy as np\n",
        "import os\n",
        "import tensorflow as tf\n",
        "from tensorflow.keras.preprocessing.image import ImageDataGenerator\n",
        "from sklearn.model_selection import train_test_split\n",
        "import json\n",
        "\n",
        "# Load the dataset\n",
        "df = pd.read_csv(\"/content/dataset-v4-raw.csv\")\n",
        "\n",
        "print(df.shape)\n",
        "\n",
        "# Define the image directory\n",
        "image_dir = '/content/content/content/flat_split'  # Change this to the directory where images are extracted\n",
        "\n",
        "# Parse the 'choice' column to extract labels\n",
        "def parse_choices(choice_str):\n",
        "    if pd.isna(choice_str) or not choice_str.strip() or len(choice_str) == 0:\n",
        "        return None\n",
        "    try:\n",
        "        choices = json.loads(choice_str.replace(\"'\", \"\\\"\"))['choices'] if choice_str[0] == '{' else [choice_str]\n",
        "        # label_map = {\"Clover\": 0, \"Grass\": 1, \"Dung\": 2, \"Sheep Dung\": 3, \"Soil\": 4, \"Artifact\": 5}\n",
        "\n",
        "        # label = [0 for _ in range(len(label_map))]\n",
        "        # for choice in choices:\n",
        "        #   label[label_map[choice]] = 1\n",
        "        # return label\n",
        "        return choices\n",
        "    except (json.JSONDecodeError, KeyError, TypeError):\n",
        "        print(choice_str)\n",
        "        return None\n",
        "\n",
        "df['labels'] = df['choice'].apply(parse_choices)\n",
        "\n",
        "print(df.shape)\n",
        "\n",
        "# Filter out rows with parsing errors (None) but keep rows with empty lists\n",
        "df = df[df['labels'].notna()]\n",
        "\n",
        "print(df.shape)\n",
        "\n",
        "# Create a function to map the image path\n",
        "def get_full_path(img_name):\n",
        "    return img_name.split('/')[-1].replace(\"%20\", \" \")\n",
        "\n",
        "df['image'] = df['image'].apply(get_full_path)\n",
        "\n",
        "# Split the data into training and validation sets\n",
        "train_df, val_df = train_test_split(df, train_size=0.8, random_state=42)"
      ]
    },
    {
      "cell_type": "code",
      "source": [
        "df"
      ],
      "metadata": {
        "colab": {
          "base_uri": "https://localhost:8080/",
          "height": 424
        },
        "id": "70zReU2oApLu",
        "outputId": "58d88618-ec96-4693-e6b4-a5e5d8dd1dc7"
      },
      "execution_count": null,
      "outputs": [
        {
          "output_type": "execute_result",
          "data": {
            "text/plain": [
              "       annotation_id  annotator                          choice  \\\n",
              "0                313          4                           Grass   \n",
              "1                376          4    {\"choices\":[\"Grass\",\"Soil\"]}   \n",
              "2                385          4    {\"choices\":[\"Grass\",\"Soil\"]}   \n",
              "3                416          4                           Grass   \n",
              "4                425          4    {\"choices\":[\"Grass\",\"Soil\"]}   \n",
              "...              ...        ...                             ...   \n",
              "18110           8584          9  {\"choices\":[\"Clover\",\"Grass\"]}   \n",
              "18111           8537          9                           Grass   \n",
              "18112           8535         10                           Grass   \n",
              "18113           8313          5  {\"choices\":[\"Clover\",\"Grass\"]}   \n",
              "18114           8268          5  {\"choices\":[\"Clover\",\"Grass\"]}   \n",
              "\n",
              "                        created_at      id                         image  \\\n",
              "0      2024-07-11T10:12:24.449200Z   18194  Bare Soil_Fran_0_194_388.jpg   \n",
              "1      2024-07-11T10:15:08.588492Z   18226  Bare Soil_Fran_0_582_776.jpg   \n",
              "2      2024-07-11T10:15:31.489451Z   18230  Bare Soil_Fran_0_776_388.jpg   \n",
              "3      2024-07-11T10:17:14.445165Z   18242    Bare Soil_Fran_1_0_388.jpg   \n",
              "4      2024-07-11T10:17:41.455977Z   18246   Bare Soil_Fran_1_1164_0.jpg   \n",
              "...                            ...     ...                           ...   \n",
              "18110  2024-07-17T12:32:18.853288Z  114424    More Clover_7_194_1552.jpg   \n",
              "18111  2024-07-17T12:31:26.238375Z  114439     More Clover_7_388_388.jpg   \n",
              "18112  2024-07-17T12:31:24.136156Z  114439     More Clover_7_388_388.jpg   \n",
              "18113  2024-07-17T12:19:27.506188Z  114568      More Clover_9_0_1746.jpg   \n",
              "18114  2024-07-17T12:09:18.940466Z  114613    More Clover_9_388_1824.jpg   \n",
              "\n",
              "       lead_time                   updated_at           labels  \n",
              "0          4.744  2024-07-11T10:12:24.449230Z          [Grass]  \n",
              "1          3.141  2024-07-11T10:15:08.588532Z    [Grass, Soil]  \n",
              "2          3.113  2024-07-11T10:15:31.489485Z    [Grass, Soil]  \n",
              "3          9.326  2024-07-11T10:17:14.445195Z          [Grass]  \n",
              "4          4.419  2024-07-11T10:17:41.456008Z    [Grass, Soil]  \n",
              "...          ...                          ...              ...  \n",
              "18110      2.547  2024-07-17T12:32:18.853306Z  [Clover, Grass]  \n",
              "18111      5.071  2024-07-17T12:31:26.238392Z          [Grass]  \n",
              "18112      2.202  2024-07-17T12:31:24.136174Z          [Grass]  \n",
              "18113      1.795  2024-07-17T12:19:27.506207Z  [Clover, Grass]  \n",
              "18114      2.428  2024-07-17T12:09:18.940483Z  [Clover, Grass]  \n",
              "\n",
              "[18046 rows x 9 columns]"
            ],
            "text/html": [
              "\n",
              "  <div id=\"df-641c63f3-50e9-4487-9aa1-697ee4580f08\" class=\"colab-df-container\">\n",
              "    <div>\n",
              "<style scoped>\n",
              "    .dataframe tbody tr th:only-of-type {\n",
              "        vertical-align: middle;\n",
              "    }\n",
              "\n",
              "    .dataframe tbody tr th {\n",
              "        vertical-align: top;\n",
              "    }\n",
              "\n",
              "    .dataframe thead th {\n",
              "        text-align: right;\n",
              "    }\n",
              "</style>\n",
              "<table border=\"1\" class=\"dataframe\">\n",
              "  <thead>\n",
              "    <tr style=\"text-align: right;\">\n",
              "      <th></th>\n",
              "      <th>annotation_id</th>\n",
              "      <th>annotator</th>\n",
              "      <th>choice</th>\n",
              "      <th>created_at</th>\n",
              "      <th>id</th>\n",
              "      <th>image</th>\n",
              "      <th>lead_time</th>\n",
              "      <th>updated_at</th>\n",
              "      <th>labels</th>\n",
              "    </tr>\n",
              "  </thead>\n",
              "  <tbody>\n",
              "    <tr>\n",
              "      <th>0</th>\n",
              "      <td>313</td>\n",
              "      <td>4</td>\n",
              "      <td>Grass</td>\n",
              "      <td>2024-07-11T10:12:24.449200Z</td>\n",
              "      <td>18194</td>\n",
              "      <td>Bare Soil_Fran_0_194_388.jpg</td>\n",
              "      <td>4.744</td>\n",
              "      <td>2024-07-11T10:12:24.449230Z</td>\n",
              "      <td>[Grass]</td>\n",
              "    </tr>\n",
              "    <tr>\n",
              "      <th>1</th>\n",
              "      <td>376</td>\n",
              "      <td>4</td>\n",
              "      <td>{\"choices\":[\"Grass\",\"Soil\"]}</td>\n",
              "      <td>2024-07-11T10:15:08.588492Z</td>\n",
              "      <td>18226</td>\n",
              "      <td>Bare Soil_Fran_0_582_776.jpg</td>\n",
              "      <td>3.141</td>\n",
              "      <td>2024-07-11T10:15:08.588532Z</td>\n",
              "      <td>[Grass, Soil]</td>\n",
              "    </tr>\n",
              "    <tr>\n",
              "      <th>2</th>\n",
              "      <td>385</td>\n",
              "      <td>4</td>\n",
              "      <td>{\"choices\":[\"Grass\",\"Soil\"]}</td>\n",
              "      <td>2024-07-11T10:15:31.489451Z</td>\n",
              "      <td>18230</td>\n",
              "      <td>Bare Soil_Fran_0_776_388.jpg</td>\n",
              "      <td>3.113</td>\n",
              "      <td>2024-07-11T10:15:31.489485Z</td>\n",
              "      <td>[Grass, Soil]</td>\n",
              "    </tr>\n",
              "    <tr>\n",
              "      <th>3</th>\n",
              "      <td>416</td>\n",
              "      <td>4</td>\n",
              "      <td>Grass</td>\n",
              "      <td>2024-07-11T10:17:14.445165Z</td>\n",
              "      <td>18242</td>\n",
              "      <td>Bare Soil_Fran_1_0_388.jpg</td>\n",
              "      <td>9.326</td>\n",
              "      <td>2024-07-11T10:17:14.445195Z</td>\n",
              "      <td>[Grass]</td>\n",
              "    </tr>\n",
              "    <tr>\n",
              "      <th>4</th>\n",
              "      <td>425</td>\n",
              "      <td>4</td>\n",
              "      <td>{\"choices\":[\"Grass\",\"Soil\"]}</td>\n",
              "      <td>2024-07-11T10:17:41.455977Z</td>\n",
              "      <td>18246</td>\n",
              "      <td>Bare Soil_Fran_1_1164_0.jpg</td>\n",
              "      <td>4.419</td>\n",
              "      <td>2024-07-11T10:17:41.456008Z</td>\n",
              "      <td>[Grass, Soil]</td>\n",
              "    </tr>\n",
              "    <tr>\n",
              "      <th>...</th>\n",
              "      <td>...</td>\n",
              "      <td>...</td>\n",
              "      <td>...</td>\n",
              "      <td>...</td>\n",
              "      <td>...</td>\n",
              "      <td>...</td>\n",
              "      <td>...</td>\n",
              "      <td>...</td>\n",
              "      <td>...</td>\n",
              "    </tr>\n",
              "    <tr>\n",
              "      <th>18110</th>\n",
              "      <td>8584</td>\n",
              "      <td>9</td>\n",
              "      <td>{\"choices\":[\"Clover\",\"Grass\"]}</td>\n",
              "      <td>2024-07-17T12:32:18.853288Z</td>\n",
              "      <td>114424</td>\n",
              "      <td>More Clover_7_194_1552.jpg</td>\n",
              "      <td>2.547</td>\n",
              "      <td>2024-07-17T12:32:18.853306Z</td>\n",
              "      <td>[Clover, Grass]</td>\n",
              "    </tr>\n",
              "    <tr>\n",
              "      <th>18111</th>\n",
              "      <td>8537</td>\n",
              "      <td>9</td>\n",
              "      <td>Grass</td>\n",
              "      <td>2024-07-17T12:31:26.238375Z</td>\n",
              "      <td>114439</td>\n",
              "      <td>More Clover_7_388_388.jpg</td>\n",
              "      <td>5.071</td>\n",
              "      <td>2024-07-17T12:31:26.238392Z</td>\n",
              "      <td>[Grass]</td>\n",
              "    </tr>\n",
              "    <tr>\n",
              "      <th>18112</th>\n",
              "      <td>8535</td>\n",
              "      <td>10</td>\n",
              "      <td>Grass</td>\n",
              "      <td>2024-07-17T12:31:24.136156Z</td>\n",
              "      <td>114439</td>\n",
              "      <td>More Clover_7_388_388.jpg</td>\n",
              "      <td>2.202</td>\n",
              "      <td>2024-07-17T12:31:24.136174Z</td>\n",
              "      <td>[Grass]</td>\n",
              "    </tr>\n",
              "    <tr>\n",
              "      <th>18113</th>\n",
              "      <td>8313</td>\n",
              "      <td>5</td>\n",
              "      <td>{\"choices\":[\"Clover\",\"Grass\"]}</td>\n",
              "      <td>2024-07-17T12:19:27.506188Z</td>\n",
              "      <td>114568</td>\n",
              "      <td>More Clover_9_0_1746.jpg</td>\n",
              "      <td>1.795</td>\n",
              "      <td>2024-07-17T12:19:27.506207Z</td>\n",
              "      <td>[Clover, Grass]</td>\n",
              "    </tr>\n",
              "    <tr>\n",
              "      <th>18114</th>\n",
              "      <td>8268</td>\n",
              "      <td>5</td>\n",
              "      <td>{\"choices\":[\"Clover\",\"Grass\"]}</td>\n",
              "      <td>2024-07-17T12:09:18.940466Z</td>\n",
              "      <td>114613</td>\n",
              "      <td>More Clover_9_388_1824.jpg</td>\n",
              "      <td>2.428</td>\n",
              "      <td>2024-07-17T12:09:18.940483Z</td>\n",
              "      <td>[Clover, Grass]</td>\n",
              "    </tr>\n",
              "  </tbody>\n",
              "</table>\n",
              "<p>18046 rows × 9 columns</p>\n",
              "</div>\n",
              "    <div class=\"colab-df-buttons\">\n",
              "\n",
              "  <div class=\"colab-df-container\">\n",
              "    <button class=\"colab-df-convert\" onclick=\"convertToInteractive('df-641c63f3-50e9-4487-9aa1-697ee4580f08')\"\n",
              "            title=\"Convert this dataframe to an interactive table.\"\n",
              "            style=\"display:none;\">\n",
              "\n",
              "  <svg xmlns=\"http://www.w3.org/2000/svg\" height=\"24px\" viewBox=\"0 -960 960 960\">\n",
              "    <path d=\"M120-120v-720h720v720H120Zm60-500h600v-160H180v160Zm220 220h160v-160H400v160Zm0 220h160v-160H400v160ZM180-400h160v-160H180v160Zm440 0h160v-160H620v160ZM180-180h160v-160H180v160Zm440 0h160v-160H620v160Z\"/>\n",
              "  </svg>\n",
              "    </button>\n",
              "\n",
              "  <style>\n",
              "    .colab-df-container {\n",
              "      display:flex;\n",
              "      gap: 12px;\n",
              "    }\n",
              "\n",
              "    .colab-df-convert {\n",
              "      background-color: #E8F0FE;\n",
              "      border: none;\n",
              "      border-radius: 50%;\n",
              "      cursor: pointer;\n",
              "      display: none;\n",
              "      fill: #1967D2;\n",
              "      height: 32px;\n",
              "      padding: 0 0 0 0;\n",
              "      width: 32px;\n",
              "    }\n",
              "\n",
              "    .colab-df-convert:hover {\n",
              "      background-color: #E2EBFA;\n",
              "      box-shadow: 0px 1px 2px rgba(60, 64, 67, 0.3), 0px 1px 3px 1px rgba(60, 64, 67, 0.15);\n",
              "      fill: #174EA6;\n",
              "    }\n",
              "\n",
              "    .colab-df-buttons div {\n",
              "      margin-bottom: 4px;\n",
              "    }\n",
              "\n",
              "    [theme=dark] .colab-df-convert {\n",
              "      background-color: #3B4455;\n",
              "      fill: #D2E3FC;\n",
              "    }\n",
              "\n",
              "    [theme=dark] .colab-df-convert:hover {\n",
              "      background-color: #434B5C;\n",
              "      box-shadow: 0px 1px 3px 1px rgba(0, 0, 0, 0.15);\n",
              "      filter: drop-shadow(0px 1px 2px rgba(0, 0, 0, 0.3));\n",
              "      fill: #FFFFFF;\n",
              "    }\n",
              "  </style>\n",
              "\n",
              "    <script>\n",
              "      const buttonEl =\n",
              "        document.querySelector('#df-641c63f3-50e9-4487-9aa1-697ee4580f08 button.colab-df-convert');\n",
              "      buttonEl.style.display =\n",
              "        google.colab.kernel.accessAllowed ? 'block' : 'none';\n",
              "\n",
              "      async function convertToInteractive(key) {\n",
              "        const element = document.querySelector('#df-641c63f3-50e9-4487-9aa1-697ee4580f08');\n",
              "        const dataTable =\n",
              "          await google.colab.kernel.invokeFunction('convertToInteractive',\n",
              "                                                    [key], {});\n",
              "        if (!dataTable) return;\n",
              "\n",
              "        const docLinkHtml = 'Like what you see? Visit the ' +\n",
              "          '<a target=\"_blank\" href=https://colab.research.google.com/notebooks/data_table.ipynb>data table notebook</a>'\n",
              "          + ' to learn more about interactive tables.';\n",
              "        element.innerHTML = '';\n",
              "        dataTable['output_type'] = 'display_data';\n",
              "        await google.colab.output.renderOutput(dataTable, element);\n",
              "        const docLink = document.createElement('div');\n",
              "        docLink.innerHTML = docLinkHtml;\n",
              "        element.appendChild(docLink);\n",
              "      }\n",
              "    </script>\n",
              "  </div>\n",
              "\n",
              "\n",
              "<div id=\"df-01adfc57-cdd1-495a-b84f-5fe1f084d6ed\">\n",
              "  <button class=\"colab-df-quickchart\" onclick=\"quickchart('df-01adfc57-cdd1-495a-b84f-5fe1f084d6ed')\"\n",
              "            title=\"Suggest charts\"\n",
              "            style=\"display:none;\">\n",
              "\n",
              "<svg xmlns=\"http://www.w3.org/2000/svg\" height=\"24px\"viewBox=\"0 0 24 24\"\n",
              "     width=\"24px\">\n",
              "    <g>\n",
              "        <path d=\"M19 3H5c-1.1 0-2 .9-2 2v14c0 1.1.9 2 2 2h14c1.1 0 2-.9 2-2V5c0-1.1-.9-2-2-2zM9 17H7v-7h2v7zm4 0h-2V7h2v10zm4 0h-2v-4h2v4z\"/>\n",
              "    </g>\n",
              "</svg>\n",
              "  </button>\n",
              "\n",
              "<style>\n",
              "  .colab-df-quickchart {\n",
              "      --bg-color: #E8F0FE;\n",
              "      --fill-color: #1967D2;\n",
              "      --hover-bg-color: #E2EBFA;\n",
              "      --hover-fill-color: #174EA6;\n",
              "      --disabled-fill-color: #AAA;\n",
              "      --disabled-bg-color: #DDD;\n",
              "  }\n",
              "\n",
              "  [theme=dark] .colab-df-quickchart {\n",
              "      --bg-color: #3B4455;\n",
              "      --fill-color: #D2E3FC;\n",
              "      --hover-bg-color: #434B5C;\n",
              "      --hover-fill-color: #FFFFFF;\n",
              "      --disabled-bg-color: #3B4455;\n",
              "      --disabled-fill-color: #666;\n",
              "  }\n",
              "\n",
              "  .colab-df-quickchart {\n",
              "    background-color: var(--bg-color);\n",
              "    border: none;\n",
              "    border-radius: 50%;\n",
              "    cursor: pointer;\n",
              "    display: none;\n",
              "    fill: var(--fill-color);\n",
              "    height: 32px;\n",
              "    padding: 0;\n",
              "    width: 32px;\n",
              "  }\n",
              "\n",
              "  .colab-df-quickchart:hover {\n",
              "    background-color: var(--hover-bg-color);\n",
              "    box-shadow: 0 1px 2px rgba(60, 64, 67, 0.3), 0 1px 3px 1px rgba(60, 64, 67, 0.15);\n",
              "    fill: var(--button-hover-fill-color);\n",
              "  }\n",
              "\n",
              "  .colab-df-quickchart-complete:disabled,\n",
              "  .colab-df-quickchart-complete:disabled:hover {\n",
              "    background-color: var(--disabled-bg-color);\n",
              "    fill: var(--disabled-fill-color);\n",
              "    box-shadow: none;\n",
              "  }\n",
              "\n",
              "  .colab-df-spinner {\n",
              "    border: 2px solid var(--fill-color);\n",
              "    border-color: transparent;\n",
              "    border-bottom-color: var(--fill-color);\n",
              "    animation:\n",
              "      spin 1s steps(1) infinite;\n",
              "  }\n",
              "\n",
              "  @keyframes spin {\n",
              "    0% {\n",
              "      border-color: transparent;\n",
              "      border-bottom-color: var(--fill-color);\n",
              "      border-left-color: var(--fill-color);\n",
              "    }\n",
              "    20% {\n",
              "      border-color: transparent;\n",
              "      border-left-color: var(--fill-color);\n",
              "      border-top-color: var(--fill-color);\n",
              "    }\n",
              "    30% {\n",
              "      border-color: transparent;\n",
              "      border-left-color: var(--fill-color);\n",
              "      border-top-color: var(--fill-color);\n",
              "      border-right-color: var(--fill-color);\n",
              "    }\n",
              "    40% {\n",
              "      border-color: transparent;\n",
              "      border-right-color: var(--fill-color);\n",
              "      border-top-color: var(--fill-color);\n",
              "    }\n",
              "    60% {\n",
              "      border-color: transparent;\n",
              "      border-right-color: var(--fill-color);\n",
              "    }\n",
              "    80% {\n",
              "      border-color: transparent;\n",
              "      border-right-color: var(--fill-color);\n",
              "      border-bottom-color: var(--fill-color);\n",
              "    }\n",
              "    90% {\n",
              "      border-color: transparent;\n",
              "      border-bottom-color: var(--fill-color);\n",
              "    }\n",
              "  }\n",
              "</style>\n",
              "\n",
              "  <script>\n",
              "    async function quickchart(key) {\n",
              "      const quickchartButtonEl =\n",
              "        document.querySelector('#' + key + ' button');\n",
              "      quickchartButtonEl.disabled = true;  // To prevent multiple clicks.\n",
              "      quickchartButtonEl.classList.add('colab-df-spinner');\n",
              "      try {\n",
              "        const charts = await google.colab.kernel.invokeFunction(\n",
              "            'suggestCharts', [key], {});\n",
              "      } catch (error) {\n",
              "        console.error('Error during call to suggestCharts:', error);\n",
              "      }\n",
              "      quickchartButtonEl.classList.remove('colab-df-spinner');\n",
              "      quickchartButtonEl.classList.add('colab-df-quickchart-complete');\n",
              "    }\n",
              "    (() => {\n",
              "      let quickchartButtonEl =\n",
              "        document.querySelector('#df-01adfc57-cdd1-495a-b84f-5fe1f084d6ed button');\n",
              "      quickchartButtonEl.style.display =\n",
              "        google.colab.kernel.accessAllowed ? 'block' : 'none';\n",
              "    })();\n",
              "  </script>\n",
              "</div>\n",
              "\n",
              "  <div id=\"id_cb2edd66-f3b2-4f17-a9f7-f9178540dbe2\">\n",
              "    <style>\n",
              "      .colab-df-generate {\n",
              "        background-color: #E8F0FE;\n",
              "        border: none;\n",
              "        border-radius: 50%;\n",
              "        cursor: pointer;\n",
              "        display: none;\n",
              "        fill: #1967D2;\n",
              "        height: 32px;\n",
              "        padding: 0 0 0 0;\n",
              "        width: 32px;\n",
              "      }\n",
              "\n",
              "      .colab-df-generate:hover {\n",
              "        background-color: #E2EBFA;\n",
              "        box-shadow: 0px 1px 2px rgba(60, 64, 67, 0.3), 0px 1px 3px 1px rgba(60, 64, 67, 0.15);\n",
              "        fill: #174EA6;\n",
              "      }\n",
              "\n",
              "      [theme=dark] .colab-df-generate {\n",
              "        background-color: #3B4455;\n",
              "        fill: #D2E3FC;\n",
              "      }\n",
              "\n",
              "      [theme=dark] .colab-df-generate:hover {\n",
              "        background-color: #434B5C;\n",
              "        box-shadow: 0px 1px 3px 1px rgba(0, 0, 0, 0.15);\n",
              "        filter: drop-shadow(0px 1px 2px rgba(0, 0, 0, 0.3));\n",
              "        fill: #FFFFFF;\n",
              "      }\n",
              "    </style>\n",
              "    <button class=\"colab-df-generate\" onclick=\"generateWithVariable('df')\"\n",
              "            title=\"Generate code using this dataframe.\"\n",
              "            style=\"display:none;\">\n",
              "\n",
              "  <svg xmlns=\"http://www.w3.org/2000/svg\" height=\"24px\"viewBox=\"0 0 24 24\"\n",
              "       width=\"24px\">\n",
              "    <path d=\"M7,19H8.4L18.45,9,17,7.55,7,17.6ZM5,21V16.75L18.45,3.32a2,2,0,0,1,2.83,0l1.4,1.43a1.91,1.91,0,0,1,.58,1.4,1.91,1.91,0,0,1-.58,1.4L9.25,21ZM18.45,9,17,7.55Zm-12,3A5.31,5.31,0,0,0,4.9,8.1,5.31,5.31,0,0,0,1,6.5,5.31,5.31,0,0,0,4.9,4.9,5.31,5.31,0,0,0,6.5,1,5.31,5.31,0,0,0,8.1,4.9,5.31,5.31,0,0,0,12,6.5,5.46,5.46,0,0,0,6.5,12Z\"/>\n",
              "  </svg>\n",
              "    </button>\n",
              "    <script>\n",
              "      (() => {\n",
              "      const buttonEl =\n",
              "        document.querySelector('#id_cb2edd66-f3b2-4f17-a9f7-f9178540dbe2 button.colab-df-generate');\n",
              "      buttonEl.style.display =\n",
              "        google.colab.kernel.accessAllowed ? 'block' : 'none';\n",
              "\n",
              "      buttonEl.onclick = () => {\n",
              "        google.colab.notebook.generateWithVariable('df');\n",
              "      }\n",
              "      })();\n",
              "    </script>\n",
              "  </div>\n",
              "\n",
              "    </div>\n",
              "  </div>\n"
            ],
            "application/vnd.google.colaboratory.intrinsic+json": {
              "type": "dataframe",
              "variable_name": "df",
              "summary": "{\n  \"name\": \"df\",\n  \"rows\": 18046,\n  \"fields\": [\n    {\n      \"column\": \"annotation_id\",\n      \"properties\": {\n        \"dtype\": \"number\",\n        \"std\": 5430,\n        \"min\": 42,\n        \"max\": 19209,\n        \"num_unique_values\": 18046,\n        \"samples\": [\n          12552,\n          14964,\n          7904\n        ],\n        \"semantic_type\": \"\",\n        \"description\": \"\"\n      }\n    },\n    {\n      \"column\": \"annotator\",\n      \"properties\": {\n        \"dtype\": \"number\",\n        \"std\": 3,\n        \"min\": 1,\n        \"max\": 13,\n        \"num_unique_values\": 12,\n        \"samples\": [\n          6,\n          2,\n          4\n        ],\n        \"semantic_type\": \"\",\n        \"description\": \"\"\n      }\n    },\n    {\n      \"column\": \"choice\",\n      \"properties\": {\n        \"dtype\": \"category\",\n        \"num_unique_values\": 31,\n        \"samples\": [\n          \"{\\\"choices\\\":[\\\"Clover\\\",\\\"Grass\\\",\\\"Soil\\\",\\\"Artifact\\\"]}\",\n          \"Dung\",\n          \"{\\\"choices\\\":[\\\"Dung\\\",\\\"Soil\\\"]}\"\n        ],\n        \"semantic_type\": \"\",\n        \"description\": \"\"\n      }\n    },\n    {\n      \"column\": \"created_at\",\n      \"properties\": {\n        \"dtype\": \"object\",\n        \"num_unique_values\": 18046,\n        \"samples\": [\n          \"2024-07-17T16:37:04.421734Z\",\n          \"2024-07-18T16:46:39.605615Z\",\n          \"2024-07-17T11:07:54.844110Z\"\n        ],\n        \"semantic_type\": \"\",\n        \"description\": \"\"\n      }\n    },\n    {\n      \"column\": \"id\",\n      \"properties\": {\n        \"dtype\": \"number\",\n        \"std\": 30104,\n        \"min\": 18156,\n        \"max\": 114651,\n        \"num_unique_values\": 17941,\n        \"samples\": [\n          18815,\n          57707,\n          20196\n        ],\n        \"semantic_type\": \"\",\n        \"description\": \"\"\n      }\n    },\n    {\n      \"column\": \"image\",\n      \"properties\": {\n        \"dtype\": \"string\",\n        \"num_unique_values\": 17941,\n        \"samples\": [\n          \"Bare Soil_Maxwell_11_1940_970.jpg\",\n          \"Cow Dung_Stev_434_1312_776.jpg\",\n          \"Bare Soil_Maxwell_25_776_388.jpg\"\n        ],\n        \"semantic_type\": \"\",\n        \"description\": \"\"\n      }\n    },\n    {\n      \"column\": \"lead_time\",\n      \"properties\": {\n        \"dtype\": \"number\",\n        \"std\": 186.33430768038417,\n        \"min\": 0.634,\n        \"max\": 13442.666,\n        \"num_unique_values\": 6126,\n        \"samples\": [\n          6.286,\n          8.115,\n          3.861\n        ],\n        \"semantic_type\": \"\",\n        \"description\": \"\"\n      }\n    },\n    {\n      \"column\": \"updated_at\",\n      \"properties\": {\n        \"dtype\": \"object\",\n        \"num_unique_values\": 18046,\n        \"samples\": [\n          \"2024-07-17T16:37:04.421752Z\",\n          \"2024-07-18T16:46:39.605634Z\",\n          \"2024-07-17T11:07:54.844129Z\"\n        ],\n        \"semantic_type\": \"\",\n        \"description\": \"\"\n      }\n    },\n    {\n      \"column\": \"labels\",\n      \"properties\": {\n        \"dtype\": \"object\",\n        \"semantic_type\": \"\",\n        \"description\": \"\"\n      }\n    }\n  ]\n}"
            }
          },
          "metadata": {},
          "execution_count": 5
        }
      ]
    },
    {
      "cell_type": "code",
      "source": [
        "# Count images for each class\n",
        "count_grass = 0\n",
        "count_not_grass = 0\n",
        "for labels in df['labels']:\n",
        "  if len(labels) == 1 and labels[0] == 'Grass':\n",
        "    count_grass += 1\n",
        "  if not \"Grass\" in labels:\n",
        "    count_not_grass += 1\n",
        "\n",
        "print(count_grass)\n",
        "print(count_not_grass)\n",
        "\n",
        "\n",
        "for class_name in all_classes:\n",
        "  count = 0\n",
        "  for labels in df['labels']:\n",
        "    if class_name in labels:\n",
        "      count += 1\n",
        "  print(f\"Number of images labelled as {class_name}: {count}\")"
      ],
      "metadata": {
        "colab": {
          "base_uri": "https://localhost:8080/"
        },
        "id": "Fz4WML0FYil8",
        "outputId": "8d5bde44-9b75-4afd-ac52-0abc2f70d538"
      },
      "execution_count": null,
      "outputs": [
        {
          "output_type": "stream",
          "name": "stdout",
          "text": [
            "11872\n",
            "972\n",
            "Number of images labelled as Clover: 3395\n",
            "Number of images labelled as Grass: 17519\n",
            "Number of images labelled as Dung: 1023\n",
            "Number of images labelled as Sheep Dung: 220\n",
            "Number of images labelled as Soil: 1613\n",
            "Number of images labelled as Artifact: 738\n"
          ]
        }
      ]
    },
    {
      "cell_type": "code",
      "source": [
        "df.to_csv('dataset-v4-clean.csv')"
      ],
      "metadata": {
        "id": "zqnGFe9cSDme"
      },
      "execution_count": null,
      "outputs": []
    },
    {
      "cell_type": "code",
      "source": [
        "# Remove entries with the label \"Artifact\"\n",
        "df = df[~df['labels'].apply(lambda x: 'Artifact' in x)]"
      ],
      "metadata": {
        "id": "2F95krJvR-hL"
      },
      "execution_count": null,
      "outputs": []
    },
    {
      "cell_type": "code",
      "source": [
        "def analyse_df(df):\n",
        "  # Count images for each class\n",
        "  count_grass = 0\n",
        "  count_not_grass = 0\n",
        "  for labels in df['labels']:\n",
        "    if len(labels) == 1 and labels[0] == 'Grass':\n",
        "      count_grass += 1\n",
        "    if not \"Grass\" in labels:\n",
        "      count_not_grass += 1\n",
        "\n",
        "  print(count_grass)\n",
        "  print(count_not_grass)\n",
        "\n",
        "\n",
        "  for class_name in all_classes:\n",
        "    count = 0\n",
        "    for labels in df['labels']:\n",
        "      if class_name in labels:\n",
        "        count += 1\n",
        "    print(f\"Number of images labelled as {class_name}: {count}\")"
      ],
      "metadata": {
        "id": "KSnv0Me4TakO"
      },
      "execution_count": null,
      "outputs": []
    },
    {
      "cell_type": "code",
      "source": [
        "analyse_df(df)"
      ],
      "metadata": {
        "colab": {
          "base_uri": "https://localhost:8080/"
        },
        "id": "Xh9V1jOhThci",
        "outputId": "333fd934-3805-4532-df03-cf9c94c42af6"
      },
      "execution_count": null,
      "outputs": [
        {
          "output_type": "stream",
          "name": "stdout",
          "text": [
            "11872\n",
            "816\n",
            "Number of images labelled as Clover: 3365\n",
            "Number of images labelled as Grass: 16937\n",
            "Number of images labelled as Dung: 1014\n",
            "Number of images labelled as Sheep Dung: 219\n",
            "Number of images labelled as Soil: 1544\n",
            "Number of images labelled as Artifact: 0\n"
          ]
        }
      ]
    },
    {
      "cell_type": "code",
      "source": [
        "# Remove entries with the label \"Sheep Dung\"\n",
        "df = df[~df['labels'].apply(lambda x: 'Sheep Dung' in x)]"
      ],
      "metadata": {
        "id": "eLqRwdz6NWgx"
      },
      "execution_count": null,
      "outputs": []
    },
    {
      "cell_type": "code",
      "source": [
        "analyse_df(df)"
      ],
      "metadata": {
        "colab": {
          "base_uri": "https://localhost:8080/"
        },
        "id": "slhtd5i0Tnd_",
        "outputId": "d1fcd444-1211-46d9-b5dd-e0143d750c90"
      },
      "execution_count": null,
      "outputs": [
        {
          "output_type": "stream",
          "name": "stdout",
          "text": [
            "11872\n",
            "769\n",
            "Number of images labelled as Clover: 3360\n",
            "Number of images labelled as Grass: 16765\n",
            "Number of images labelled as Dung: 1004\n",
            "Number of images labelled as Sheep Dung: 0\n",
            "Number of images labelled as Soil: 1435\n",
            "Number of images labelled as Artifact: 0\n"
          ]
        }
      ]
    },
    {
      "cell_type": "code",
      "source": [
        "def sample_rows(df, predicate, num_samples):\n",
        "    \"\"\"\n",
        "    Sample multiple rows from the dataframe matching the predicate, add them to a new dataset,\n",
        "    and delete them from the original dataset.\n",
        "\n",
        "    Parameters:\n",
        "    df (pd.DataFrame): The original dataframe.\n",
        "    predicate (function): A function that takes a row and returns True if the row matches the condition.\n",
        "    num_samples (int): The number of rows to sample.\n",
        "\n",
        "    Returns:\n",
        "    pd.DataFrame, pd.DataFrame: The updated original dataframe and the new dataset with the sampled rows.\n",
        "    \"\"\"\n",
        "    # Filter the rows matching the predicate\n",
        "    matching_rows = df[df.apply(predicate, axis=1)]\n",
        "\n",
        "    # If no rows match the predicate, return the original dataframe and an empty new dataframe\n",
        "    if matching_rows.empty:\n",
        "        return df, pd.DataFrame(columns=df.columns)\n",
        "\n",
        "    # Randomly sample the specified number of rows from the matching rows\n",
        "    sampled_rows = matching_rows.sample(n=num_samples)\n",
        "\n",
        "    # Remove the sampled rows from the original dataframe\n",
        "    df_updated = df.drop(sampled_rows.index)\n",
        "\n",
        "    # Create a new dataframe with the sampled rows\n",
        "    new_df = sampled_rows\n",
        "\n",
        "    return df_updated, new_df"
      ],
      "metadata": {
        "id": "rMPf9OIlWn-p"
      },
      "execution_count": null,
      "outputs": []
    },
    {
      "cell_type": "code",
      "source": [
        "# Include all non-grass\n",
        "\n",
        "predicate = lambda row: 'Grass' not in row['labels']\n",
        "\n",
        "# Calculate the number of rows matching the predicate\n",
        "num_samples = df['labels'].apply(lambda x: 'Grass' not in x).sum()\n",
        "\n",
        "# Sample rows from the original dataframe\n",
        "df_updated, new_dataset = sample_rows(df, predicate, num_samples)"
      ],
      "metadata": {
        "id": "KH5h9DK7Wyhp"
      },
      "execution_count": null,
      "outputs": []
    },
    {
      "cell_type": "code",
      "source": [
        "analyse_df(df_updated)"
      ],
      "metadata": {
        "colab": {
          "base_uri": "https://localhost:8080/"
        },
        "id": "5u6GskgbYX4-",
        "outputId": "7aa4abb2-ce89-441c-f09b-eb3293b859e5"
      },
      "execution_count": null,
      "outputs": [
        {
          "output_type": "stream",
          "name": "stdout",
          "text": [
            "11872\n",
            "0\n",
            "Number of images labelled as Clover: 3105\n",
            "Number of images labelled as Grass: 16765\n",
            "Number of images labelled as Dung: 956\n",
            "Number of images labelled as Sheep Dung: 0\n",
            "Number of images labelled as Soil: 957\n",
            "Number of images labelled as Artifact: 0\n"
          ]
        }
      ]
    },
    {
      "cell_type": "code",
      "source": [
        "analyse_df(new_dataset)"
      ],
      "metadata": {
        "colab": {
          "base_uri": "https://localhost:8080/"
        },
        "id": "YSjBsPnsYgnf",
        "outputId": "1d62eb8f-a569-4f54-d6d7-50a6cf249bfa"
      },
      "execution_count": null,
      "outputs": [
        {
          "output_type": "stream",
          "name": "stdout",
          "text": [
            "0\n",
            "769\n",
            "Number of images labelled as Clover: 255\n",
            "Number of images labelled as Grass: 0\n",
            "Number of images labelled as Dung: 48\n",
            "Number of images labelled as Sheep Dung: 0\n",
            "Number of images labelled as Soil: 478\n",
            "Number of images labelled as Artifact: 0\n"
          ]
        }
      ]
    },
    {
      "cell_type": "code",
      "source": [
        "df = df_updated"
      ],
      "metadata": {
        "id": "1csjNuT9ZSVx"
      },
      "execution_count": null,
      "outputs": []
    },
    {
      "cell_type": "code",
      "source": [
        "analyse_df(df)"
      ],
      "metadata": {
        "colab": {
          "base_uri": "https://localhost:8080/"
        },
        "id": "Q2ZykOdpZnsW",
        "outputId": "4340ab8a-4a5d-47fe-a2ac-90840585d620"
      },
      "execution_count": null,
      "outputs": [
        {
          "output_type": "stream",
          "name": "stdout",
          "text": [
            "11872\n",
            "0\n",
            "Number of images labelled as Clover: 3105\n",
            "Number of images labelled as Grass: 16765\n",
            "Number of images labelled as Dung: 956\n",
            "Number of images labelled as Sheep Dung: 0\n",
            "Number of images labelled as Soil: 957\n",
            "Number of images labelled as Artifact: 0\n"
          ]
        }
      ]
    },
    {
      "cell_type": "code",
      "source": [
        "# Include all Dung\n",
        "\n",
        "predicate = lambda row: 'Dung' in row['labels']\n",
        "\n",
        "# Calculate the number of rows matching the predicate\n",
        "num_samples = df['labels'].apply(lambda x: 'Dung' in x).sum()\n",
        "\n",
        "# Sample rows from the original dataframe\n",
        "df_updated, new_dataset2 = sample_rows(df, predicate, num_samples)\n",
        "\n",
        "analyse_df(df_updated)\n",
        "analyse_df(new_dataset2)"
      ],
      "metadata": {
        "colab": {
          "base_uri": "https://localhost:8080/"
        },
        "id": "z6JslJL3YvpI",
        "outputId": "72a6e06e-21df-4d04-fbbf-10ae63491e1a"
      },
      "execution_count": null,
      "outputs": [
        {
          "output_type": "stream",
          "name": "stdout",
          "text": [
            "11872\n",
            "0\n",
            "Number of images labelled as Clover: 3053\n",
            "Number of images labelled as Grass: 15809\n",
            "Number of images labelled as Dung: 0\n",
            "Number of images labelled as Sheep Dung: 0\n",
            "Number of images labelled as Soil: 924\n",
            "Number of images labelled as Artifact: 0\n",
            "0\n",
            "0\n",
            "Number of images labelled as Clover: 52\n",
            "Number of images labelled as Grass: 956\n",
            "Number of images labelled as Dung: 956\n",
            "Number of images labelled as Sheep Dung: 0\n",
            "Number of images labelled as Soil: 33\n",
            "Number of images labelled as Artifact: 0\n"
          ]
        }
      ]
    },
    {
      "cell_type": "code",
      "source": [
        "new_dataset = pd.concat([new_dataset, new_dataset2], ignore_index=True)"
      ],
      "metadata": {
        "id": "gaWJc2AeaBcH"
      },
      "execution_count": null,
      "outputs": []
    },
    {
      "cell_type": "code",
      "source": [
        "analyse_df(new_dataset)"
      ],
      "metadata": {
        "colab": {
          "base_uri": "https://localhost:8080/"
        },
        "id": "As18_j7caOEx",
        "outputId": "bff9c01c-0419-41f4-d400-4e5c48837ff4"
      },
      "execution_count": null,
      "outputs": [
        {
          "output_type": "stream",
          "name": "stdout",
          "text": [
            "0\n",
            "769\n",
            "Number of images labelled as Clover: 307\n",
            "Number of images labelled as Grass: 956\n",
            "Number of images labelled as Dung: 1004\n",
            "Number of images labelled as Sheep Dung: 0\n",
            "Number of images labelled as Soil: 511\n",
            "Number of images labelled as Artifact: 0\n"
          ]
        }
      ]
    },
    {
      "cell_type": "code",
      "source": [
        "df = df_updated"
      ],
      "metadata": {
        "id": "6YvZatYFaeOX"
      },
      "execution_count": null,
      "outputs": []
    },
    {
      "cell_type": "code",
      "source": [
        "analyse_df(df)"
      ],
      "metadata": {
        "colab": {
          "base_uri": "https://localhost:8080/"
        },
        "id": "0jcORQCHabvs",
        "outputId": "d0a04190-2ea0-4757-97a7-38b6fa487043"
      },
      "execution_count": null,
      "outputs": [
        {
          "output_type": "stream",
          "name": "stdout",
          "text": [
            "11872\n",
            "0\n",
            "Number of images labelled as Clover: 3053\n",
            "Number of images labelled as Grass: 15809\n",
            "Number of images labelled as Dung: 0\n",
            "Number of images labelled as Sheep Dung: 0\n",
            "Number of images labelled as Soil: 924\n",
            "Number of images labelled as Artifact: 0\n"
          ]
        }
      ]
    },
    {
      "cell_type": "code",
      "source": [
        "# Add 1004 - 511 soil\n",
        "\n",
        "predicate = lambda row: 'Soil' in row['labels']\n",
        "\n",
        "# Sample rows from the original dataframe\n",
        "df_updated, new_dataset2 = sample_rows(df, predicate, 1004 - 511)\n",
        "\n",
        "analyse_df(df_updated)\n",
        "analyse_df(new_dataset2)\n"
      ],
      "metadata": {
        "colab": {
          "base_uri": "https://localhost:8080/"
        },
        "id": "G0rxL8wTaYT1",
        "outputId": "51efa28f-b338-4962-f782-929561a85e4c"
      },
      "execution_count": null,
      "outputs": [
        {
          "output_type": "stream",
          "name": "stdout",
          "text": [
            "11872\n",
            "0\n",
            "Number of images labelled as Clover: 3029\n",
            "Number of images labelled as Grass: 15316\n",
            "Number of images labelled as Dung: 0\n",
            "Number of images labelled as Sheep Dung: 0\n",
            "Number of images labelled as Soil: 431\n",
            "Number of images labelled as Artifact: 0\n",
            "0\n",
            "0\n",
            "Number of images labelled as Clover: 24\n",
            "Number of images labelled as Grass: 493\n",
            "Number of images labelled as Dung: 0\n",
            "Number of images labelled as Sheep Dung: 0\n",
            "Number of images labelled as Soil: 493\n",
            "Number of images labelled as Artifact: 0\n"
          ]
        }
      ]
    },
    {
      "cell_type": "code",
      "source": [
        "new_dataset = pd.concat([new_dataset, new_dataset2], ignore_index=True)"
      ],
      "metadata": {
        "id": "G8N4Hnk8azMh"
      },
      "execution_count": null,
      "outputs": []
    },
    {
      "cell_type": "code",
      "source": [
        "df = df_updated"
      ],
      "metadata": {
        "id": "X72rHxULa3GK"
      },
      "execution_count": null,
      "outputs": []
    },
    {
      "cell_type": "code",
      "source": [
        "analyse_df(new_dataset)\n",
        "analyse_df(df)"
      ],
      "metadata": {
        "colab": {
          "base_uri": "https://localhost:8080/"
        },
        "id": "RxzigOvWa1Po",
        "outputId": "efc62683-9097-4b31-c7e5-82f3175f3d4a"
      },
      "execution_count": null,
      "outputs": [
        {
          "output_type": "stream",
          "name": "stdout",
          "text": [
            "0\n",
            "769\n",
            "Number of images labelled as Clover: 331\n",
            "Number of images labelled as Grass: 1449\n",
            "Number of images labelled as Dung: 1004\n",
            "Number of images labelled as Sheep Dung: 0\n",
            "Number of images labelled as Soil: 1004\n",
            "Number of images labelled as Artifact: 0\n",
            "11872\n",
            "0\n",
            "Number of images labelled as Clover: 3029\n",
            "Number of images labelled as Grass: 15316\n",
            "Number of images labelled as Dung: 0\n",
            "Number of images labelled as Sheep Dung: 0\n",
            "Number of images labelled as Soil: 431\n",
            "Number of images labelled as Artifact: 0\n"
          ]
        }
      ]
    },
    {
      "cell_type": "code",
      "source": [
        "# Add 1004 - 331 clover\n",
        "\n",
        "predicate = lambda row: 'Clover' in row['labels']\n",
        "\n",
        "# Sample rows from the original dataframe\n",
        "df_updated, new_dataset2 = sample_rows(df, predicate, 1004 - 331)\n",
        "\n",
        "analyse_df(df_updated)\n",
        "analyse_df(new_dataset2)\n"
      ],
      "metadata": {
        "colab": {
          "base_uri": "https://localhost:8080/"
        },
        "id": "zZmJuPcHbAc_",
        "outputId": "ee6747b6-a780-4eb7-b176-c4dec349a6e9"
      },
      "execution_count": null,
      "outputs": [
        {
          "output_type": "stream",
          "name": "stdout",
          "text": [
            "11872\n",
            "0\n",
            "Number of images labelled as Clover: 2356\n",
            "Number of images labelled as Grass: 14643\n",
            "Number of images labelled as Dung: 0\n",
            "Number of images labelled as Sheep Dung: 0\n",
            "Number of images labelled as Soil: 428\n",
            "Number of images labelled as Artifact: 0\n",
            "0\n",
            "0\n",
            "Number of images labelled as Clover: 673\n",
            "Number of images labelled as Grass: 673\n",
            "Number of images labelled as Dung: 0\n",
            "Number of images labelled as Sheep Dung: 0\n",
            "Number of images labelled as Soil: 3\n",
            "Number of images labelled as Artifact: 0\n"
          ]
        }
      ]
    },
    {
      "cell_type": "code",
      "source": [
        "new_dataset = pd.concat([new_dataset, new_dataset2], ignore_index=True)\n",
        "df = df_updated"
      ],
      "metadata": {
        "id": "cf3wnNB7bPoB"
      },
      "execution_count": null,
      "outputs": []
    },
    {
      "cell_type": "code",
      "source": [
        "analyse_df(new_dataset)\n",
        "analyse_df(df)"
      ],
      "metadata": {
        "colab": {
          "base_uri": "https://localhost:8080/"
        },
        "id": "JxHWcqa0bRdc",
        "outputId": "08f30e13-fc0c-40d9-c912-1d321538dc82"
      },
      "execution_count": null,
      "outputs": [
        {
          "output_type": "stream",
          "name": "stdout",
          "text": [
            "0\n",
            "769\n",
            "Number of images labelled as Clover: 1004\n",
            "Number of images labelled as Grass: 2122\n",
            "Number of images labelled as Dung: 1004\n",
            "Number of images labelled as Sheep Dung: 0\n",
            "Number of images labelled as Soil: 1007\n",
            "Number of images labelled as Artifact: 0\n",
            "11872\n",
            "0\n",
            "Number of images labelled as Clover: 2356\n",
            "Number of images labelled as Grass: 14643\n",
            "Number of images labelled as Dung: 0\n",
            "Number of images labelled as Sheep Dung: 0\n",
            "Number of images labelled as Soil: 428\n",
            "Number of images labelled as Artifact: 0\n"
          ]
        }
      ]
    },
    {
      "cell_type": "code",
      "source": [
        "new_dataset.to_csv('dataset-v4-clean-resampled.csv')"
      ],
      "metadata": {
        "id": "XVMBC5Afc1PT"
      },
      "execution_count": null,
      "outputs": []
    },
    {
      "cell_type": "code",
      "source": [
        "all_classes = [\"Clover\", \"Grass\", \"Dung\", \"Soil\"]"
      ],
      "metadata": {
        "id": "SOA2Qlobf6fs"
      },
      "execution_count": null,
      "outputs": []
    },
    {
      "cell_type": "code",
      "source": [
        "import pandas as pd\n",
        "import numpy as np\n",
        "\n",
        "def split_train_val(df, class_label, train_ratio=0.8):\n",
        "    \"\"\"\n",
        "    Split the dataset into training and validation sets for a given class label.\n",
        "\n",
        "    Parameters:\n",
        "    df (pd.DataFrame): The original dataframe.\n",
        "    class_label (str): The class label to split by.\n",
        "    train_ratio (float): The ratio of the training set.\n",
        "\n",
        "    Returns:\n",
        "    pd.DataFrame: The dataframe with the 'subset' column updated.\n",
        "    \"\"\"\n",
        "    # Filter rows that contain the class label\n",
        "    class_rows = df[df['labels'].apply(lambda x: class_label in x)]\n",
        "\n",
        "    # Determine the number of training samples\n",
        "    num_train_samples = int(len(class_rows) * train_ratio)\n",
        "\n",
        "    # Shuffle the rows\n",
        "    shuffled_rows = class_rows.sample(frac=1, random_state=42)\n",
        "\n",
        "    # Split into training and validation sets\n",
        "    train_rows = shuffled_rows.iloc[:num_train_samples]\n",
        "    val_rows = shuffled_rows.iloc[num_train_samples:]\n",
        "\n",
        "    # Update the 'subset' column\n",
        "    df.loc[train_rows.index, 'subset'] = 'Train'\n",
        "    df.loc[val_rows.index, 'subset'] = 'Val'\n",
        "\n",
        "    return df\n",
        "\n",
        "# Assume new_dataset is already loaded\n",
        "new_dataset['subset'] = np.nan\n",
        "\n",
        "# Split dataset for each class\n",
        "for class_label in all_classes:\n",
        "    new_dataset = split_train_val(new_dataset, class_label)\n",
        "\n",
        "# Save the result\n",
        "new_dataset_split = new_dataset"
      ],
      "metadata": {
        "id": "uqN3sAjdeUaC"
      },
      "execution_count": null,
      "outputs": []
    },
    {
      "cell_type": "code",
      "source": [
        "new_dataset_split = new_dataset_split.sample(frac=1, random_state=42).reset_index(drop=True)"
      ],
      "metadata": {
        "id": "qLQwHAuBh6A0"
      },
      "execution_count": null,
      "outputs": []
    },
    {
      "cell_type": "code",
      "source": [
        "new_dataset_split.to_csv('dataset-v4-clean-resampled-split.csv')"
      ],
      "metadata": {
        "id": "2746O8iHgDvk"
      },
      "execution_count": null,
      "outputs": []
    },
    {
      "cell_type": "code",
      "source": [
        "# Verify\n",
        "cleaned_df = pd.read_csv('dataset-v4-clean-resampled-split.csv')\n",
        "\n",
        "# Print the number of training and validation rows for each class\n",
        "for class_label in all_classes:\n",
        "    num_train = len(cleaned_df[(new_dataset_split['labels'].apply(lambda x: class_label in x)) & (cleaned_df['subset'] == 'Train')])\n",
        "    num_val = len(cleaned_df[(new_dataset_split['labels'].apply(lambda x: class_label in x)) & (cleaned_df['subset'] == 'Val')])\n",
        "    print(f\"Number of training images labelled as {class_label}: {num_train}\")\n",
        "    print(f\"Number of validation images labelled as {class_label}: {num_val}\")\n",
        "    print(f\"Proportion training {num_train / (num_train + num_val)}\\n\")"
      ],
      "metadata": {
        "colab": {
          "base_uri": "https://localhost:8080/"
        },
        "id": "Mz1D99M5gOJF",
        "outputId": "093e1ce4-ac56-43d2-cab0-7a5d82bd86d6"
      },
      "execution_count": null,
      "outputs": [
        {
          "output_type": "stream",
          "name": "stdout",
          "text": [
            "Number of training images labelled as Clover: 782\n",
            "Number of validation images labelled as Clover: 222\n",
            "Proportion training 0.7788844621513944\n",
            "\n",
            "Number of training images labelled as Grass: 1687\n",
            "Number of validation images labelled as Grass: 435\n",
            "Proportion training 0.795004712535344\n",
            "\n",
            "Number of training images labelled as Dung: 803\n",
            "Number of validation images labelled as Dung: 201\n",
            "Proportion training 0.799800796812749\n",
            "\n",
            "Number of training images labelled as Soil: 805\n",
            "Number of validation images labelled as Soil: 202\n",
            "Proportion training 0.7994041708043694\n",
            "\n"
          ]
        }
      ]
    }
  ],
  "metadata": {
    "colab": {
      "provenance": []
    },
    "kernelspec": {
      "display_name": "Python 3",
      "name": "python3"
    },
    "language_info": {
      "name": "python"
    }
  },
  "nbformat": 4,
  "nbformat_minor": 0
}