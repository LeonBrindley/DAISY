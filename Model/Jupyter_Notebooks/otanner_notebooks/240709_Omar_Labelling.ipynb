{
  "cells": [
    {
      "cell_type": "code",
      "source": [],
      "metadata": {
        "id": "Rw6Kn4Jg0_Gt"
      },
      "execution_count": null,
      "outputs": []
    },
    {
      "cell_type": "markdown",
      "source": [],
      "metadata": {
        "id": "FKRl3e8b1BgP"
      }
    },
    {
      "cell_type": "code",
      "source": [
        "!pip3 install pillow-heif\n",
        "from PIL import Image\n",
        "import math\n",
        "from pillow_heif import register_heif_opener\n",
        "register_heif_opener()"
      ],
      "metadata": {
        "colab": {
          "base_uri": "https://localhost:8080/"
        },
        "id": "n39KSdmK4xLI",
        "outputId": "8d95fa57-ab8e-49ac-dfb1-e664e2eebc11"
      },
      "execution_count": 4,
      "outputs": [
        {
          "output_type": "stream",
          "name": "stdout",
          "text": [
            "Requirement already satisfied: pillow-heif in /usr/local/lib/python3.10/dist-packages (0.17.0)\n",
            "Requirement already satisfied: pillow>=10.1.0 in /usr/local/lib/python3.10/dist-packages (from pillow-heif) (10.4.0)\n"
          ]
        }
      ]
    },
    {
      "cell_type": "code",
      "execution_count": null,
      "metadata": {
        "id": "udfOglxUt3D9",
        "cellView": "form"
      },
      "outputs": [],
      "source": [
        "# @title\n",
        "def calculate_scaling_factor(original_width, original_height, target_width, target_height):\n",
        "    original_area = original_width * original_height\n",
        "    target_area = target_width * target_height\n",
        "    return math.sqrt(target_area / original_area)\n",
        "\n",
        "def rescale_image(image_path, output_path, target_width = 2048, target_height = 1536):\n",
        "  with Image.open(image_path) as img:\n",
        "      original_width, original_height = img.size\n",
        "      scaling_factor = calculate_scaling_factor(original_width, original_height, target_width, target_height)\n",
        "      new_width = int(original_width * scaling_factor)\n",
        "      new_height = int(original_height * scaling_factor)\n",
        "      img_resized = img.resize((new_width, new_height))\n",
        "      img_resized.save(output_path)\n",
        "\n",
        "  print(f\"Image has been downsampled and saved to {output_path}\")\n",
        "\n",
        "# image_path = '/content/downsampled_mega.jpg'  # Replace with your image path\n",
        "# output_path = '/content/downsampled_mega_rescaled.jpg'\n",
        "# target_width = 2048\n",
        "# target_height = 1536"
      ]
    },
    {
      "cell_type": "code",
      "execution_count": null,
      "metadata": {
        "colab": {
          "background_save": true
        },
        "id": "ku8I_1ma1c3P",
        "cellView": "form"
      },
      "outputs": [],
      "source": [
        "# @title\n",
        "# prompt: split my image into 224x224 pixel segments and show a grid of each segment\n",
        "\n",
        "import matplotlib.pyplot as plt\n",
        "\n",
        "# Load the downsampled image\n",
        "image_path = \"/content/downsampled/biggest_clovers_device.jpg\"\n",
        "img = Image.open(image_path)\n",
        "\n",
        "# Define the grid dimensions\n",
        "grid_width = 224\n",
        "grid_height = 224\n",
        "\n",
        "# Calculate the number of rows and columns in the grid\n",
        "rows = math.ceil(img.height / grid_height)\n",
        "cols = math.ceil(img.width / grid_width)\n",
        "\n",
        "# Create a figure with subplots\n",
        "fig, axs = plt.subplots(rows, cols, figsize=(100, 100))\n",
        "\n",
        "# Iterate over each row and column\n",
        "for i in range(rows):\n",
        "    for j in range(cols):\n",
        "        # Calculate the coordinates of the current segment\n",
        "        x = j * grid_width\n",
        "        y = i * grid_height\n",
        "        w = grid_width\n",
        "        h = grid_height\n",
        "\n",
        "        # Check if the segment is within the image boundaries\n",
        "        if x + w > img.width:\n",
        "            w = img.width - x\n",
        "        if y + h > img.height:\n",
        "            h = img.height - y\n",
        "\n",
        "        # Crop the segment from the image\n",
        "        segment = img.crop((x, y, x + w, y + h))\n",
        "\n",
        "        # Display the segment in the corresponding subplot\n",
        "        axs[i, j].imshow(segment)\n",
        "        axs[i, j].set_xticks([])\n",
        "        axs[i, j].set_yticks([])\n",
        "\n",
        "# Show the plot\n",
        "plt.show()\n"
      ]
    },
    {
      "cell_type": "code",
      "source": [
        "#@title Preprocess and Split\n",
        "\n",
        "import os\n",
        "import math\n",
        "from PIL import Image\n",
        "\n",
        "def calculate_scaling_factor(original_width, original_height, target_width, target_height):\n",
        "    original_area = original_width * original_height\n",
        "    target_area = target_width * target_height\n",
        "    return math.sqrt(target_area / original_area)\n",
        "\n",
        "def preprocess_image(image_path, output_dir, unique_id, target_width=2048, target_height=1536):\n",
        "    with Image.open(image_path) as img:\n",
        "        original_width, original_height = img.size\n",
        "        scaling_factor = calculate_scaling_factor(original_width, original_height, target_width, target_height)\n",
        "        new_width = int(original_width * scaling_factor)\n",
        "        new_height = int(original_height * scaling_factor)\n",
        "        img_resized = img.resize((new_width, new_height), Image.LANCZOS)\n",
        "\n",
        "        # Convert to RGB and save as BMP without metadata\n",
        "        img_resized = img_resized.convert(\"RGB\")\n",
        "        output_path = os.path.join(output_dir, f\"{unique_id}.bmp\")\n",
        "        img_resized.save(output_path, format='BMP')\n",
        "\n",
        "    print(f\"Image {image_path} has been preprocessed and saved as {output_path}\")\n",
        "    return output_path\n",
        "\n",
        "def split_image(image_path, output_dir, unique_id, segment_size=224, stride=194):\n",
        "    with Image.open(image_path) as img:\n",
        "        img_width, img_height = img.size\n",
        "        segment_id = unique_id\n",
        "\n",
        "        for x in range(0, img_width, stride):\n",
        "            for y in range(0, img_height, stride):\n",
        "                # Calculate the boundaries of the segment\n",
        "                adjusted_x = min(x, img_width - segment_size)\n",
        "                adjusted_y = min(y, img_height - segment_size)\n",
        "\n",
        "                # Create the segment\n",
        "                segment = img.crop((adjusted_x, adjusted_y, adjusted_x + segment_size, adjusted_y + segment_size))\n",
        "\n",
        "                # Convert to RGB and save as BMP without metadata\n",
        "                segment = segment.convert(\"RGB\")\n",
        "                segment_output_path = os.path.join(output_dir, f\"{unique_id}_{adjusted_x}_{adjusted_y}.bmp\")\n",
        "                segment.save(segment_output_path, format='BMP')\n",
        "\n",
        "                segment_id += 1\n",
        "        return segment_id\n",
        "\n",
        "def preprocess_and_split_images_in_directory(input_directory, preprocessed_output_directory, segments_output_directory, target_width=2048, target_height=1536, segment_size=224, stride=194):\n",
        "    unique_id = 0\n",
        "    for root, _, files in os.walk(input_directory):\n",
        "        for file in files:\n",
        "            if file.lower().endswith(('png', 'jpg', 'jpeg', 'heic')):\n",
        "                input_path = os.path.join(root, file)\n",
        "                relative_path = os.path.relpath(root, input_directory)\n",
        "\n",
        "                # Preprocess image\n",
        "                preprocessed_output_dir = os.path.join(preprocessed_output_directory, relative_path)\n",
        "                os.makedirs(preprocessed_output_dir, exist_ok=True)\n",
        "                preprocessed_image_path = preprocess_image(input_path, preprocessed_output_dir, unique_id, target_width, target_height)\n",
        "\n",
        "                # Split image into segments\n",
        "                segments_output_dir = os.path.join(segments_output_directory, relative_path)\n",
        "                os.makedirs(segments_output_dir, exist_ok=True)\n",
        "                split_image(preprocessed_image_path, segments_output_dir, unique_id, segment_size, stride)\n",
        "\n",
        "                unique_id += 1\n",
        "\n",
        "# Main execution\n",
        "input_directory = '/content/test_images'  # Replace with your input directory path\n",
        "preprocessed_output_directory = '/content/preprocessed'  # Directory for preprocessed images\n",
        "segments_output_directory = '/content/split_and_preprocessed'  # Directory for segmented images\n",
        "\n",
        "# Preprocess images and split them into segments\n",
        "preprocess_and_split_images_in_directory(input_directory, preprocessed_output_directory, segments_output_directory, target_width=2048, target_height=1536, segment_size=224, stride=194)\n",
        "\n",
        "print(f\"Preprocessed images have been saved to {preprocessed_output_directory}\")\n",
        "print(f\"Segmented images have been saved to {segments_output_directory}\")"
      ],
      "metadata": {
        "colab": {
          "base_uri": "https://localhost:8080/"
        },
        "id": "nz56HQE66yRs",
        "outputId": "87e64dbf-99ec-445b-a892-d92689ed4358"
      },
      "execution_count": 75,
      "outputs": [
        {
          "output_type": "stream",
          "name": "stdout",
          "text": [
            "Image /content/test_images/high_zoom7.jpg has been preprocessed and saved as /content/preprocessed/./0.bmp\n",
            "Image /content/test_images/high_zoom6.JPG has been preprocessed and saved as /content/preprocessed/./1.bmp\n",
            "Image /content/test_images/d3/high_zoom5.JPG has been preprocessed and saved as /content/preprocessed/d3/2.bmp\n",
            "Image /content/test_images/d3/high_zoom4.jpeg has been preprocessed and saved as /content/preprocessed/d3/3.bmp\n",
            "Image /content/test_images/d1/high_zoom1.JPG has been preprocessed and saved as /content/preprocessed/d1/4.bmp\n",
            "Image /content/test_images/d1/d2/high_zoom2.heic has been preprocessed and saved as /content/preprocessed/d1/d2/5.bmp\n",
            "Image /content/test_images/d1/d2/high_zoom3.heic has been preprocessed and saved as /content/preprocessed/d1/d2/6.bmp\n",
            "Preprocessed images have been saved to /content/preprocessed\n",
            "Segmented images have been saved to /content/split_and_preprocessed\n"
          ]
        }
      ]
    },
    {
      "cell_type": "code",
      "source": [
        "#@title Reconstruct\n",
        "\n",
        "import os\n",
        "from PIL import Image\n",
        "from collections import defaultdict\n",
        "\n",
        "def reconstruct_images_from_segments(segments_directory, output_directory, segment_size=224):\n",
        "    # Dictionary to store image segments by their original image ID\n",
        "    segments_dict = defaultdict(list)\n",
        "\n",
        "    # Collect segments\n",
        "    for root, _, files in os.walk(segments_directory):\n",
        "        for file in files:\n",
        "            if file.lower().endswith(('bmp', 'jpg', 'jpeg', 'gif')):\n",
        "                file_path = os.path.join(root, file)\n",
        "                parts = file.split('_')\n",
        "                if len(parts) == 3:\n",
        "                    image_id = int(parts[0])\n",
        "                    x = int(parts[1])\n",
        "                    y = int(parts[2].split('.')[0])\n",
        "                    segments_dict[image_id].append((x, y, file_path))\n",
        "\n",
        "    # Reconstruct images\n",
        "    for image_id, segments in segments_dict.items():\n",
        "        # Determine the original image dimensions\n",
        "        max_x = max(segment[0] for segment in segments) + segment_size\n",
        "        max_y = max(segment[1] for segment in segments) + segment_size\n",
        "\n",
        "        # Create a new blank image\n",
        "        full_image = Image.new('RGB', (max_x, max_y))\n",
        "\n",
        "        # Paste the segments into the full image\n",
        "        for x, y, file_path in segments:\n",
        "            segment = Image.open(file_path)\n",
        "            full_image.paste(segment, (x, y))\n",
        "\n",
        "        # Save the reconstructed image using default settings\n",
        "        relative_path = os.path.relpath(file_path, segments_directory)\n",
        "        original_dir = os.path.dirname(relative_path)\n",
        "        output_path = os.path.join(output_directory, original_dir)\n",
        "        os.makedirs(output_path, exist_ok=True)\n",
        "        full_image.save(os.path.join(output_path, f'{image_id}.bmp'), format='BMP')\n",
        "\n",
        "    print(f\"Reconstructed images have been saved to {output_directory}\")\n",
        "\n",
        "# Main execution\n",
        "segments_directory = '/content/split_and_preprocessed'  # Directory containing the segmented images\n",
        "reconstructed_output_directory = '/content/reconstructed_images'  # Directory to save reconstructed images\n",
        "\n",
        "# Reconstruct images from segments\n",
        "reconstruct_images_from_segments(segments_directory, reconstructed_output_directory)\n",
        "\n",
        "print(f\"Reconstructed images have been saved to {reconstructed_output_directory}\")"
      ],
      "metadata": {
        "colab": {
          "base_uri": "https://localhost:8080/"
        },
        "id": "nnpCmw7T-Y_L",
        "outputId": "5f59b968-fbb0-41ba-ef14-9a0921aafd51"
      },
      "execution_count": 76,
      "outputs": [
        {
          "output_type": "stream",
          "name": "stdout",
          "text": [
            "Reconstructed images have been saved to /content/reconstructed_images\n",
            "Reconstructed images have been saved to /content/reconstructed_images\n"
          ]
        }
      ]
    },
    {
      "cell_type": "code",
      "source": [
        "#@title Verify Reconstructed == Preprocessed\n",
        "\n",
        "def compare_directories(dir1, dir2):\n",
        "    for root, _, files in os.walk(dir1):\n",
        "        for file in files:\n",
        "            preprocessed_file_path = os.path.join(root, file)\n",
        "            relative_path = os.path.relpath(preprocessed_file_path, dir1)\n",
        "            reconstructed_file_path = os.path.join(dir2, relative_path)\n",
        "\n",
        "            if not os.path.exists(reconstructed_file_path):\n",
        "                print(f\"File {reconstructed_file_path} does not exist in {dir2}\")\n",
        "                return False\n",
        "\n",
        "    temp = dir1\n",
        "    dir1 = dir2\n",
        "    dir2 = temp\n",
        "\n",
        "    for root, _, files in os.walk(dir1):\n",
        "      for file in files:\n",
        "          preprocessed_file_path = os.path.join(root, file)\n",
        "          relative_path = os.path.relpath(preprocessed_file_path, dir1)\n",
        "          reconstructed_file_path = os.path.join(dir2, relative_path)\n",
        "\n",
        "          print(f\"Checking: {relative_path}...\")\n",
        "\n",
        "          if not os.path.exists(reconstructed_file_path):\n",
        "              print(f\"File {reconstructed_file_path} does not exist in {dir2}\")\n",
        "              return False\n",
        "\n",
        "          preprocessed_img = Image.open(preprocessed_file_path)\n",
        "          reconstructed_img = Image.open(reconstructed_file_path)\n",
        "\n",
        "          preprocessed_data = list(preprocessed_img.getdata())\n",
        "          reconstructed_data = list(reconstructed_img.getdata())\n",
        "\n",
        "          if preprocessed_data != reconstructed_data:\n",
        "              print(f\"Images {preprocessed_file_path} and {reconstructed_file_path} do not match\")\n",
        "              differences = [(i, v1, v2) for i, (v1, v2) in enumerate(zip(preprocessed_data, reconstructed_data)) if v1 != v2]\n",
        "              for index, v1, v2 in differences:\n",
        "                  print(f\"Index {index}: Preprocessed value {v1}, Reconstructed value {v2}\")\n",
        "              return False\n",
        "\n",
        "    print(\"All images match exactly\")\n",
        "    return True\n",
        "\n",
        "# Compare directories to ensure they are identical\n",
        "preprocessed_dir = preprocessed_output_directory  # Directory containing the preprocessed images\n",
        "reconstructed_dir = reconstructed_output_directory  # Directory containing the reconstructed images\n",
        "\n",
        "if compare_directories(preprocessed_dir, reconstructed_dir):\n",
        "    print(\"Test passed: Preprocessed and reconstructed directories are identical\")\n",
        "else:\n",
        "    print(\"Test failed: Preprocessed and reconstructed directories differ\")"
      ],
      "metadata": {
        "colab": {
          "base_uri": "https://localhost:8080/"
        },
        "id": "S8wT321mEOIN",
        "outputId": "ecf35e2a-634d-4797-8b8f-f427d8286e11"
      },
      "execution_count": 77,
      "outputs": [
        {
          "output_type": "stream",
          "name": "stdout",
          "text": [
            "Checking: 0.bmp...\n",
            "Checking: 1.bmp...\n",
            "Checking: d3/2.bmp...\n",
            "Checking: d3/3.bmp...\n",
            "Checking: d1/4.bmp...\n",
            "Checking: d1/d2/6.bmp...\n",
            "Checking: d1/d2/5.bmp...\n",
            "All images match exactly\n",
            "Test passed: Preprocessed and reconstructed directories are identical\n"
          ]
        }
      ]
    },
    {
      "cell_type": "markdown",
      "source": [],
      "metadata": {
        "id": "u9G68UZLBrTt"
      }
    },
    {
      "cell_type": "code",
      "source": [
        "!rm -rf /content/rescaled /content/split_and_rescaled /content/reconstructed_images /content/extracted_segments /content/preprocessed /content/split_and_preprocessed"
      ],
      "metadata": {
        "id": "TKncH-X29K-1"
      },
      "execution_count": 73,
      "outputs": []
    },
    {
      "cell_type": "code",
      "source": [
        "!rm -rf /content/reconstructed_images"
      ],
      "metadata": {
        "id": "kEuf2a-TDN0x"
      },
      "execution_count": 74,
      "outputs": []
    },
    {
      "cell_type": "code",
      "source": [
        "!unzip /content/test_images.zip"
      ],
      "metadata": {
        "colab": {
          "base_uri": "https://localhost:8080/"
        },
        "id": "tFIlED1g7juL",
        "outputId": "1cb41005-34b6-4067-9b3a-67fd342ca27c"
      },
      "execution_count": 5,
      "outputs": [
        {
          "output_type": "stream",
          "name": "stdout",
          "text": [
            "Archive:  /content/test_images.zip\n",
            "   creating: test_images/d1/\n",
            "   creating: test_images/d1/d2/\n",
            "  inflating: test_images/d1/d2/high_zoom2.heic  \n",
            "  inflating: test_images/d1/d2/high_zoom3.heic  \n",
            "  inflating: test_images/d1/high_zoom1.JPG  \n",
            "   creating: test_images/d3/\n",
            "  inflating: test_images/d3/high_zoom4.jpeg  \n",
            "  inflating: test_images/d3/high_zoom5.JPG  \n",
            "  inflating: test_images/high_zoom6.JPG  \n",
            "  inflating: test_images/high_zoom7.jpg  \n"
          ]
        }
      ]
    },
    {
      "cell_type": "markdown",
      "metadata": {
        "id": "c3O_KrhWyLKC"
      },
      "source": [
        "biggest clovers: high_zoom3"
      ]
    }
  ],
  "metadata": {
    "colab": {
      "provenance": []
    },
    "kernelspec": {
      "display_name": "Python 3",
      "name": "python3"
    },
    "language_info": {
      "name": "python"
    }
  },
  "nbformat": 4,
  "nbformat_minor": 0
}