{
 "cells": [
  {
   "cell_type": "code",
   "execution_count": 2,
   "metadata": {},
   "outputs": [],
   "source": [
    "import image_arg as arg\n",
    "import numpy as np\n",
    "import pandas as pd\n",
    "\n",
    "import cv2\n",
    "\n",
    "data = pd.read_csv('../dataV6_arg_V8/dataV6_arg_V8.csv')\n",
    "\n",
    "#Define the arg function dictoary\n",
    "arg_dic = {\n",
    "    'Blu': arg.apply_blur,\n",
    "    'Rot': arg.apply_rotation,\n",
    "    'Flip': arg.apply_flip,\n",
    "    'Noise': arg.apply_noise,\n",
    "    'Bri': arg.apply_briten\n",
    "}\n",
    "\n",
    "data = data[~data['argType'].isin(['None', 'Clone'])]\n",
    "data = data.dropna(subset=['argType'])\n",
    "\n",
    "#data = data.iloc[10000:10005]\n",
    "#tempImagePath = '../data/content/content/flat_split/Clover_Maxwell_250_970_970.jpg'\n",
    "\n",
    "for i in range(data.shape[0]):\n",
    "    \n",
    "    tempPath = f\"../dataV5_arg_V7/content/content/flat_split/{data.iloc[i]['image']}\"\n",
    "\n",
    "    temp = arg_dic[data.iloc[i]['argType']](tempPath,\n",
    "                                          data.iloc[i]['argPar1'],\n",
    "                                          data.iloc[i]['argPar2'])\n",
    "    \n",
    "    cv2.imwrite(f\"../dataV6_arg_V8/content/content/flat_split/{data.iloc[i]['argImageName']}\", temp)\n",
    "\n"
   ]
  },
  {
   "cell_type": "code",
   "execution_count": 3,
   "metadata": {},
   "outputs": [
    {
     "name": "stdout",
     "output_type": "stream",
     "text": [
      "Unnamed: 0                                       5\n",
      "annotation_id                                26068\n",
      "annotator                                       15\n",
      "choice                {\"choices\":[\"Grass\",\"Soil\"]}\n",
      "created_at             2024-08-12T13:04:19.614744Z\n",
      "id                                           20355\n",
      "image            Bare Soil_Maxwell_27_1948_194.jpg\n",
      "lead_time                                    2.694\n",
      "updated_at             2024-08-12T13:04:19.614767Z\n",
      "labels                           ['Grass', 'Soil']\n",
      "choiceCom                              Grass, Soil\n",
      "split                                        Train\n",
      "argAmount                                      0.0\n",
      "argType                                        NaN\n",
      "argPar1                                        NaN\n",
      "argPar2                                        NaN\n",
      "argPerformed                                 False\n",
      "argImageName     Bare Soil_Maxwell_27_1948_194.jpg\n",
      "Name: 1, dtype: object\n",
      "5797.0\n"
     ]
    }
   ],
   "source": [
    "data = pd.read_csv('../dataV6_arg_V8/dataV6_arg_V8.csv')\n",
    "\n",
    "data = data.dropna(subset=['argAmount'])\n",
    "\n",
    "print(data.iloc[1])\n",
    "\n",
    "print(data['argAmount'].sum())"
   ]
  }
 ],
 "metadata": {
  "kernelspec": {
   "display_name": "TeamChallenge",
   "language": "python",
   "name": "python3"
  },
  "language_info": {
   "codemirror_mode": {
    "name": "ipython",
    "version": 3
   },
   "file_extension": ".py",
   "mimetype": "text/x-python",
   "name": "python",
   "nbconvert_exporter": "python",
   "pygments_lexer": "ipython3",
   "version": "3.9.18"
  }
 },
 "nbformat": 4,
 "nbformat_minor": 2
}
